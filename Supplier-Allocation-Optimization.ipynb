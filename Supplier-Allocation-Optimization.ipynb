{
 "cells": [
  {
   "cell_type": "markdown",
   "id": "9ce95dae-b369-40f8-8887-4f5953b37047",
   "metadata": {},
   "source": [
    "# Description of the Problem"
   ]
  },
  {
   "cell_type": "markdown",
   "id": "7f092fe2-a15d-429e-a612-ef826971baf6",
   "metadata": {},
   "source": [
    "Your Company is aiming to minimize production costs of some goods. During the production process, an essential product P is used, which can be supplied from one of two partners - supplier A and supplier B. Your consultants requested the historical prices of product P from both suppliers A and B, which were provided as monthly averages for the period from February 2018 to March 2020.\n",
    "\n",
    "Preparing Company Budget for the coming twelve months period, your plan is to purchase the same amount of product P monthly. There were some periods in the past, when it would be more profitable to use supplier A (the prices of product P were lower), and other periods to work with supplier B. For the Budget model you can set some percentage of the goods to be purchased from supplier A (e.g. 60%) and the remaining part from supplier B (e.g. 40%), but this split should be kept consistent for the whole of the twelve months period.\n",
    "Based on the historical prices, is there a particular percentage which will be more profitable to supply from Company A, and the remaining part from Company B? Or maybe it does not matter and you can work just with one of the suppliers?"
   ]
  },
  {
   "cell_type": "markdown",
   "id": "de57b733-5eba-4d8f-92db-1e643942feaf",
   "metadata": {},
   "source": [
    "<a name='1.1'></a>\n",
    "### 1.1 - Mathematical Statement of the Problem\n",
    "Denoting prices of the product P from Company A and Company B as $p_A$ (USD) and $p_B$ (USD) respectively, and the volume of the product to be supplied per month as $n$ (units), the total cost in USD is:\n",
    "\n",
    "$$f\\left(\\omega\\right) = p_A \\omega \\,n+ p_B \\left(1 - \\omega\\right) n,$$\n",
    "\n",
    "$f(\\omega)$ is cost function where $0\\leq\\omega\\leq1$ is the parameter. If $\\omega = 1$, all goods will be supplied from Company A, and if $\\omega = 0$, from Company B. In case of $0<\\omega<1$, some percentage will be allocated to both. \n",
    "As it is planned to keep the volume $n$ constant over the next twelve months, in the mathematical model the common approach is to put $n = 1$.\n",
    "\n",
    "$$f\\left(\\omega\\right) = p_A \\omega+ p_B \\left(1 - \\omega\\right) \\tag{1}$$\n",
    "\n",
    "$$\\mathcal{L}\\left(\\omega\\right) = \\frac{1}{k}\\sum_{i=1}^{k}\\left(f^i \\left(\\omega\\right) -  \\overline{f\\left (\\omega\\right)}\\right)^2\\tag{2}$$\n",
    "\n",
    "$\\mathcal{L}\\left(\\omega\\right)$ is called a variance of $\\{f^1 \\left(\\omega\\right), \\cdots , f^k \\left(\\omega\\right)\\}$ or cost function\n",
    "The aim is to minimize the variance $\\mathcal{L}\\left(\\omega\\right)$, where $\\omega\\in\\left[0, 1\\right]$.\n",
    "By minimizing $\\mathcal{L}(\\omega)$, you can find the optimal value of 𝜔 that results in the most stable cost over time, which might be desirable for budgeting and contract negotiations."
   ]
  },
  {
   "cell_type": "code",
   "execution_count": 1,
   "id": "e35534d4-1e7b-4617-bf66-a5c2a496faa1",
   "metadata": {},
   "outputs": [],
   "source": [
    "# A function to perform automatic differentiation.\n",
    "from jax import grad\n",
    "# A wrapped version of NumPy to use JAX primitives.\n",
    "import jax.numpy as np\n",
    "# A library for programmatic plot generation.\n",
    "import matplotlib.pyplot as plt\n",
    "# A library for data manipulation and analysis.\n",
    "import pandas as pd"
   ]
  },
  {
   "cell_type": "markdown",
   "id": "a7e38c12-42b8-4944-a4db-b2440eda01b2",
   "metadata": {},
   "source": [
    "### Open and Analyze the Dataset\n",
    "Historical prices for both suppliers A and B are saved in the file `data/prices.csv`. "
   ]
  },
  {
   "cell_type": "code",
   "execution_count": 2,
   "id": "6f064a5c-489b-4299-a1de-da7146473d50",
   "metadata": {},
   "outputs": [
    {
     "name": "stdout",
     "output_type": "stream",
     "text": [
      "(50, 3)\n"
     ]
    }
   ],
   "source": [
    "df = pd.read_csv('data/prices.csv')\n",
    "print(df.shape)"
   ]
  },
  {
   "cell_type": "code",
   "execution_count": 3,
   "id": "d53f01c3-0040-4e6b-b02b-f2374db23206",
   "metadata": {},
   "outputs": [
    {
     "name": "stdout",
     "output_type": "stream",
     "text": [
      "Index(['date', 'price_supplier_a_dollars_per_item',\n",
      "       'price_supplier_b_dollars_per_item'],\n",
      "      dtype='object')\n"
     ]
    }
   ],
   "source": [
    "print(df.columns)"
   ]
  },
  {
   "cell_type": "code",
   "execution_count": 4,
   "id": "965e97b0-4895-4224-8c0e-fc6f557123a0",
   "metadata": {},
   "outputs": [
    {
     "data": {
      "text/html": [
       "<div>\n",
       "<style scoped>\n",
       "    .dataframe tbody tr th:only-of-type {\n",
       "        vertical-align: middle;\n",
       "    }\n",
       "\n",
       "    .dataframe tbody tr th {\n",
       "        vertical-align: top;\n",
       "    }\n",
       "\n",
       "    .dataframe thead th {\n",
       "        text-align: right;\n",
       "    }\n",
       "</style>\n",
       "<table border=\"1\" class=\"dataframe\">\n",
       "  <thead>\n",
       "    <tr style=\"text-align: right;\">\n",
       "      <th></th>\n",
       "      <th>date</th>\n",
       "      <th>price_supplier_a_dollars_per_item</th>\n",
       "      <th>price_supplier_b_dollars_per_item</th>\n",
       "    </tr>\n",
       "  </thead>\n",
       "  <tbody>\n",
       "    <tr>\n",
       "      <th>0</th>\n",
       "      <td>1/02/2016</td>\n",
       "      <td>104</td>\n",
       "      <td>76</td>\n",
       "    </tr>\n",
       "    <tr>\n",
       "      <th>1</th>\n",
       "      <td>1/03/2016</td>\n",
       "      <td>108</td>\n",
       "      <td>76</td>\n",
       "    </tr>\n",
       "    <tr>\n",
       "      <th>2</th>\n",
       "      <td>1/04/2016</td>\n",
       "      <td>101</td>\n",
       "      <td>84</td>\n",
       "    </tr>\n",
       "    <tr>\n",
       "      <th>3</th>\n",
       "      <td>1/05/2016</td>\n",
       "      <td>104</td>\n",
       "      <td>79</td>\n",
       "    </tr>\n",
       "    <tr>\n",
       "      <th>4</th>\n",
       "      <td>1/06/2016</td>\n",
       "      <td>102</td>\n",
       "      <td>81</td>\n",
       "    </tr>\n",
       "  </tbody>\n",
       "</table>\n",
       "</div>"
      ],
      "text/plain": [
       "        date  price_supplier_a_dollars_per_item  \\\n",
       "0  1/02/2016                                104   \n",
       "1  1/03/2016                                108   \n",
       "2  1/04/2016                                101   \n",
       "3  1/05/2016                                104   \n",
       "4  1/06/2016                                102   \n",
       "\n",
       "   price_supplier_b_dollars_per_item  \n",
       "0                                 76  \n",
       "1                                 76  \n",
       "2                                 84  \n",
       "3                                 79  \n",
       "4                                 81  "
      ]
     },
     "execution_count": 4,
     "metadata": {},
     "output_type": "execute_result"
    }
   ],
   "source": [
    "df.head()"
   ]
  },
  {
   "cell_type": "markdown",
   "id": "abe15e41-071a-43b5-a87f-7fcafd2c355b",
   "metadata": {},
   "source": [
    "Store columns in numpy array"
   ]
  },
  {
   "cell_type": "code",
   "execution_count": 5,
   "id": "ed189683-376f-4fb4-8949-c8c9f3e1adb0",
   "metadata": {},
   "outputs": [
    {
     "name": "stdout",
     "output_type": "stream",
     "text": [
      "int64\n"
     ]
    }
   ],
   "source": [
    "prices_A = df['price_supplier_a_dollars_per_item']\n",
    "prices_B = df['price_supplier_b_dollars_per_item']\n",
    "print(prices_A.dtype)\n",
    "\n",
    "prices_A = np.array(prices_A, dtype=np.float32)\n",
    "prices_B = np.array(prices_B, dtype=np.float32)"
   ]
  },
  {
   "cell_type": "code",
   "execution_count": 6,
   "id": "8c69035c-3f56-4cfb-9ff0-b8ed54b86540",
   "metadata": {},
   "outputs": [
    {
     "name": "stdout",
     "output_type": "stream",
     "text": [
      "Some prices of supplier A: [104. 108. 101. 104. 102.]\n",
      "Some prices of supplier B: [76. 76. 84. 79. 81.]\n"
     ]
    }
   ],
   "source": [
    "print(\"Some prices of supplier A:\", prices_A[0:5])\n",
    "print(\"Some prices of supplier B:\", prices_B[0:5])"
   ]
  },
  {
   "cell_type": "code",
   "execution_count": 19,
   "id": "b0e5ef68-ff9c-4f88-94a6-e60fd4aa04cd",
   "metadata": {},
   "outputs": [
    {
     "name": "stdout",
     "output_type": "stream",
     "text": [
      "Average of the prices, supplier A: 100.799995\n",
      "Average of the prices, supplier B: 100.0\n"
     ]
    }
   ],
   "source": [
    "print(\"Average of the prices, supplier A:\", np.mean(prices_A))\n",
    "print(\"Average of the prices, supplier B:\", np.mean(prices_B))"
   ]
  },
  {
   "cell_type": "markdown",
   "id": "4cd79c3d-c733-4f35-85a7-e68359f60aae",
   "metadata": {},
   "source": [
    "Average prices are almost similar"
   ]
  },
  {
   "cell_type": "code",
   "execution_count": 7,
   "id": "3462cd55-e125-4973-b305-8bdbae4b4efd",
   "metadata": {},
   "outputs": [
    {
     "data": {
      "image/png": "[encoded data removed]",
      "text/plain": [
       "<Figure size 640x480 with 1 Axes>"
      ]
     },
     "metadata": {},
     "output_type": "display_data"
    }
   ],
   "source": [
    "# plottinh graphs\n",
    "# fig = plt.figure()\n",
    "# ax = fig.add_subplot(1, 1, 1)\n",
    "plt.plot(prices_A, c='g', label=\"Supplier A\")\n",
    "plt.plot(prices_B, c='b', label=\"Supplier B\")\n",
    "plt.legend()\n",
    "\n",
    "plt.show()"
   ]
  },
  {
   "cell_type": "markdown",
   "id": "1091669d-6574-4820-a6f1-2575a5e45ea3",
   "metadata": {},
   "source": [
    "### Construct the Function $\\mathcal{L}$ to Optimize and Find its Minimum Point\n",
    "\n",
    "Calculate `f_of_omega`, corresponding to the $f^i\\left(\\omega\\right)=p_A^i \\omega+ p_B^i \\left(1 - \\omega\\right)$. Prices $\\{p_A^1, \\cdots, p_A^k\\}$ and $\\{p_B^1, \\cdots, p_B^k\\}$ are saved in the arrays `prices_A` and `prices_B`."
   ]
  },
  {
   "cell_type": "code",
   "execution_count": 10,
   "id": "6ed59846-39db-48af-844e-2eff02dfae77",
   "metadata": {},
   "outputs": [],
   "source": [
    "def f_omega(omega):\n",
    "    res = prices_A * omega + prices_B * (1 - omega)\n",
    "    return res\n",
    "\n",
    "def L_omega(omega):\n",
    "    mean = np.mean(f_omega(omega))\n",
    "    return np.sum((f_omega(omega) - mean)**2) / prices_A.size"
   ]
  },
  {
   "cell_type": "code",
   "execution_count": 11,
   "id": "eee88d74-697d-438b-b669-058eee8bdf71",
   "metadata": {},
   "outputs": [
    {
     "name": "stdout",
     "output_type": "stream",
     "text": [
      "L(omega = 0) =  110.72\n",
      "L(omega = 0.2) =  61.156807\n",
      "L(omega = 0.5) =  17.67\n",
      "L(omega = 0.8) =  11.212798\n",
      "L(omega = 1) =  27.48\n"
     ]
    }
   ],
   "source": [
    "print(\"L(omega = 0) = \", L_omega(0)) \n",
    "print(\"L(omega = 0.2) = \", L_omega(0.2)) \n",
    "print(\"L(omega = 0.5) = \", L_omega(0.5)) \n",
    "print(\"L(omega = 0.8) = \", L_omega(0.8)) \n",
    "print(\"L(omega = 1) = \", L_omega(1)) "
   ]
  },
  {
   "cell_type": "code",
   "execution_count": 29,
   "id": "5ffd4369-9512-4378-ba76-825062edb53e",
   "metadata": {},
   "outputs": [],
   "source": [
    "N = 1001\n",
    "omega_array = np.linspace(0, 1, N)\n",
    "def L_omega_array(omega_array):\n",
    "    L_omega_array = np.zeros(N)\n",
    "    for i in range(0, N):\n",
    "        ans = L_omega(omega_array[i])\n",
    "        L_omega_array = L_omega_array.at[i].set(ans)\n",
    "    return L_omega_array\n",
    "\n",
    "L_array = L_omega_array(omega_array)"
   ]
  },
  {
   "cell_type": "code",
   "execution_count": 30,
   "id": "57deeb00-f91e-400a-9130-1830d7a09ef6",
   "metadata": {},
   "outputs": [
    {
     "name": "stdout",
     "output_type": "stream",
     "text": [
      "L(omega = 0) =  110.72\n",
      "L(omega = 1) =  27.48\n"
     ]
    }
   ],
   "source": [
    "print(\"L(omega = 0) = \", L_array[0])\n",
    "print(\"L(omega = 1) = \", L_array[N - 1]) "
   ]
  },
  {
   "cell_type": "code",
   "execution_count": 33,
   "id": "37eaffc9-aff8-4817-9737-c04f454a357d",
   "metadata": {},
   "outputs": [
    {
     "name": "stdout",
     "output_type": "stream",
     "text": [
      "Omega_min = 0.7020000219345093\n",
      "L_min = 9.249719619750977\n"
     ]
    }
   ],
   "source": [
    "L_min_index = L_array.argmin()\n",
    "opt_L = L_array[L_min_index]\n",
    "opt_omega_1 = omega_array[L_min_index]\n",
    "\n",
    "print(f\"Omega_min = {opt_omega_1}\\nL_min = {opt_L}\")"
   ]
  },
  {
   "cell_type": "code",
   "execution_count": 36,
   "id": "04c2ffb1-6475-4448-bc35-08fc3fa38357",
   "metadata": {},
   "outputs": [],
   "source": [
    "def dLdOmega_of_omega_array(omega_array):\n",
    "    dLdOmega_array = np.zeros(N)\n",
    "    for i in range(0, N):\n",
    "        g = grad(L_omega)(omega_array[i])\n",
    "        dLdOmega_array = dLdOmega_array.at[i].set(g)\n",
    "    return dLdOmega_array\n",
    "\n",
    "dLdOmega_array = dLdOmega_of_omega_array(omega_array)"
   ]
  },
  {
   "cell_type": "code",
   "execution_count": 38,
   "id": "a384db60-b87b-46ed-8149-ddbfd8584c35",
   "metadata": {},
   "outputs": [
    {
     "name": "stdout",
     "output_type": "stream",
     "text": [
      "Omega_min = 0.7020000219345093\n",
      "dLdOmega_min = -0.1290912628173828\n"
     ]
    }
   ],
   "source": [
    "dLdOmega_min_index = np.abs(dLdOmega_array).argmin()\n",
    "opt_dLdOmega = dLdOmega_array[dLdOmega_min_index]\n",
    "opt_omega_2 = omega_array[dLdOmega_min_index]\n",
    "\n",
    "print(f\"Omega_min = {opt_omega_2}\\ndLdOmega_min = {opt_dLdOmega}\")"
   ]
  },
  {
   "cell_type": "markdown",
   "id": "31ee61c3-093c-49b3-94bf-c1f3867d990e",
   "metadata": {},
   "source": [
    "The result is the same: $\\omega = 0.702$. Let's plot $\\mathcal{L}\\left(\\omega\\right)$ and $\\frac{d\\mathcal{L}}{d\\omega}$ to visualize the graphs of them, minimum point of the function $\\mathcal{L}\\left(\\omega\\right)$ and the point where its derivative is around $0$:"
   ]
  }
 ],
 "metadata": {
  "kernelspec": {
   "display_name": "Python 3 (ipykernel)",
   "language": "python",
   "name": "python3"
  },
  "language_info": {
   "codemirror_mode": {
    "name": "ipython",
    "version": 3
   },
   "file_extension": ".py",
   "mimetype": "text/x-python",
   "name": "python",
   "nbconvert_exporter": "python",
   "pygments_lexer": "ipython3",
   "version": "3.12.4"
  }
 },
 "nbformat": 4,
 "nbformat_minor": 5
}
